{
 "cells": [
  {
   "cell_type": "code",
   "execution_count": 1,
   "id": "e5eb8c88",
   "metadata": {},
   "outputs": [],
   "source": [
    "import pandas as pd"
   ]
  },
  {
   "cell_type": "markdown",
   "id": "70c908a8",
   "metadata": {},
   "source": [
    "# Read files"
   ]
  },
  {
   "cell_type": "code",
   "execution_count": null,
   "id": "e793d3ab",
   "metadata": {},
   "outputs": [],
   "source": [
    "df=pd.read_csv(\"xyz.csv\",header=None)\n",
    "df=pd.read_excel(\"xyz.xlsx\", sheet_name=0, header=0)\n",
    "df=pd.read_json(\"xyz.json\", lines=True)"
   ]
  },
  {
   "cell_type": "markdown",
   "id": "ee3fff73",
   "metadata": {},
   "source": [
    "# Basic functions"
   ]
  },
  {
   "cell_type": "code",
   "execution_count": null,
   "id": "85ac42f9",
   "metadata": {},
   "outputs": [],
   "source": [
    "df.head(5)     # display the first 5 rows (default is 10)\n",
    "df.tail(5)     # display the last 5 rows (default is 10)\n",
    "df.transpose() # transpose of dataframe\n",
    "\n",
    "df.shape     # dimensions of the dataset i.e. (n_rows,n_columns)\n",
    "df.shape[0]  # number of rows\n",
    "df.shape[1]  # number of columns\n",
    "\n",
    "df.info()     # schema of dataset (columns and their datatypes)\n",
    "df.describe() # statistics of each column i.e. min, max, quartiles, etc.\n",
    "\n",
    "df.isnull().sum()  # number of missing values in each column\n",
    "df.dropna()        # drop rows with missing values\n",
    "df.fillna(0, inplace=True) # fill missing values with 0, inplace will not create new DF, it will modify current\n",
    "\n",
    "df.drop_duplicates(inplace=True)  # drop duplicate rows"
   ]
  },
  {
   "cell_type": "markdown",
   "id": "22c8e0a9",
   "metadata": {},
   "source": [
    "# loc, iloc"
   ]
  },
  {
   "cell_type": "code",
   "execution_count": null,
   "id": "9286dd00",
   "metadata": {},
   "outputs": [],
   "source": [
    "df.iloc[:3]        # extract first 3 rows i.e. rows 0, 1, 2\n",
    "df.iloc[1:3, 0:3]  # extract  rows 1 and 2, columns 0-2 \n",
    "\n",
    "df.loc[df['age']>18,'eligibility']=True  # in the dataset where age>18, set eligibility=True"
   ]
  },
  {
   "cell_type": "markdown",
   "id": "4102e85a",
   "metadata": {},
   "source": [
    "# assign"
   ]
  },
  {
   "cell_type": "code",
   "execution_count": 2,
   "id": "67edf049",
   "metadata": {},
   "outputs": [
    {
     "name": "stdout",
     "output_type": "stream",
     "text": [
      "          temp_c\n",
      "Portland    17.0\n",
      "Berkeley    25.0\n",
      "          temp_c\n",
      "Portland    18.0\n",
      "Berkeley    26.0\n",
      "          temp_c  temp_f\n",
      "Portland    18.0    64.4\n",
      "Berkeley    26.0    78.8\n"
     ]
    }
   ],
   "source": [
    "df = pd.DataFrame({'temp_c': [17.0, 25.0]}, index=['Portland', 'Berkeley'])\n",
    "print(df)\n",
    "df = df.assign(temp_c=df['temp_c'] +1)\n",
    "print(df)\n",
    "df = df.assign(temp_f=df['temp_c'] * 9 / 5 + 32)\n",
    "print(df)"
   ]
  },
  {
   "cell_type": "markdown",
   "id": "661ecd55",
   "metadata": {},
   "source": [
    "# apply"
   ]
  },
  {
   "cell_type": "code",
   "execution_count": 3,
   "id": "8ddd270b",
   "metadata": {},
   "outputs": [
    {
     "data": {
      "text/plain": [
       "0    2.0\n",
       "1    3.0\n",
       "Name: A, dtype: float64"
      ]
     },
     "execution_count": 3,
     "metadata": {},
     "output_type": "execute_result"
    }
   ],
   "source": [
    "import numpy as np\n",
    "df=pd.DataFrame([[4,25],[9,16]],columns=['A','B'])\n",
    "df.apply(lambda x: np.sqrt(x))          # apply the lambda function to each row all columns\n",
    "df['A'].apply(lambda x: np.sqrt(x))     # apply the lambda function to each row, A column only"
   ]
  },
  {
   "cell_type": "markdown",
   "id": "7ad5ffc5",
   "metadata": {},
   "source": [
    "# SQL equivalence"
   ]
  },
  {
   "cell_type": "code",
   "execution_count": null,
   "id": "4643db17",
   "metadata": {},
   "outputs": [],
   "source": [
    "#SQL syntax: from[select][where].groupby().agg().rename().reset_index().sort_values()\n",
    "df[['userId','page']][df['page'=='Thumbs_up']].groupby('userId').count().rename(columns={'page':'total_thumbs_up'}).reset_index()\n",
    "\n",
    "# where clause can have ==, >, <, >=, <=, between, and, or\n",
    "df[df['created_at'].between('2020-01-01', '2020-01-31')]\n",
    "\n",
    "# Aggregate functions -> count(), sum(), mean(), size(), std(), var()\n",
    "# If we want to use multiple aggregate functions together\n",
    "df.agg(['sum','min'])"
   ]
  },
  {
   "cell_type": "code",
   "execution_count": null,
   "id": "6507ca40",
   "metadata": {},
   "outputs": [],
   "source": [
    "df.drop_duplicates().replace( ['F','M'], ['0','1'], 'gender'] ) # in gender column replace F by 0, M by 1"
   ]
  },
  {
   "cell_type": "markdown",
   "id": "aae7921a",
   "metadata": {},
   "source": [
    "# Joins"
   ]
  },
  {
   "cell_type": "code",
   "execution_count": null,
   "id": "aacb50cb",
   "metadata": {},
   "outputs": [],
   "source": [
    "pd.merge(df1, df2, how=‘inner’, on=’key’, left_on=’left_key’, right_on=’right_key’)\n",
    "#how -> inner (default), left, right, outer, cross\n",
    "#on -> common key/column in both tables\n",
    "#left_on -> if no common key, column to use from left table \n",
    "#right_on -> if no common key, column to use from right table"
   ]
  },
  {
   "cell_type": "markdown",
   "id": "52993a8d",
   "metadata": {},
   "source": [
    "# Pivot table"
   ]
  },
  {
   "cell_type": "code",
   "execution_count": null,
   "id": "2a2e7352",
   "metadata": {},
   "outputs": [],
   "source": [
    "df2=df1.pivot_table(index=['A'],columns=['B'],values='x').reset_index()"
   ]
  },
  {
   "cell_type": "markdown",
   "id": "1edc864a",
   "metadata": {},
   "source": [
    "# Example"
   ]
  },
  {
   "cell_type": "code",
   "execution_count": 4,
   "id": "1f9aa905",
   "metadata": {},
   "outputs": [
    {
     "data": {
      "text/html": [
       "<div>\n",
       "<style scoped>\n",
       "    .dataframe tbody tr th:only-of-type {\n",
       "        vertical-align: middle;\n",
       "    }\n",
       "\n",
       "    .dataframe tbody tr th {\n",
       "        vertical-align: top;\n",
       "    }\n",
       "\n",
       "    .dataframe thead th {\n",
       "        text-align: right;\n",
       "    }\n",
       "</style>\n",
       "<table border=\"1\" class=\"dataframe\">\n",
       "  <thead>\n",
       "    <tr style=\"text-align: right;\">\n",
       "      <th></th>\n",
       "      <th>id</th>\n",
       "      <th>date</th>\n",
       "      <th>cost</th>\n",
       "    </tr>\n",
       "  </thead>\n",
       "  <tbody>\n",
       "    <tr>\n",
       "      <th>0</th>\n",
       "      <td>s1,d1</td>\n",
       "      <td>2020-01-01</td>\n",
       "      <td>30</td>\n",
       "    </tr>\n",
       "    <tr>\n",
       "      <th>1</th>\n",
       "      <td>s1,d1</td>\n",
       "      <td>2020-01-03</td>\n",
       "      <td>100</td>\n",
       "    </tr>\n",
       "    <tr>\n",
       "      <th>2</th>\n",
       "      <td>s1,d2</td>\n",
       "      <td>2020-01-01</td>\n",
       "      <td>70</td>\n",
       "    </tr>\n",
       "    <tr>\n",
       "      <th>3</th>\n",
       "      <td>s1,d2</td>\n",
       "      <td>2020-01-03</td>\n",
       "      <td>100</td>\n",
       "    </tr>\n",
       "    <tr>\n",
       "      <th>4</th>\n",
       "      <td>s2,d1</td>\n",
       "      <td>2020-01-01</td>\n",
       "      <td>90</td>\n",
       "    </tr>\n",
       "    <tr>\n",
       "      <th>5</th>\n",
       "      <td>s2,d1</td>\n",
       "      <td>2020-01-02</td>\n",
       "      <td>150</td>\n",
       "    </tr>\n",
       "    <tr>\n",
       "      <th>6</th>\n",
       "      <td>s2,d2</td>\n",
       "      <td>2020-01-01</td>\n",
       "      <td>210</td>\n",
       "    </tr>\n",
       "    <tr>\n",
       "      <th>7</th>\n",
       "      <td>s2,d2</td>\n",
       "      <td>2020-01-02</td>\n",
       "      <td>250</td>\n",
       "    </tr>\n",
       "  </tbody>\n",
       "</table>\n",
       "</div>"
      ],
      "text/plain": [
       "      id        date  cost\n",
       "0  s1,d1  2020-01-01    30\n",
       "1  s1,d1  2020-01-03   100\n",
       "2  s1,d2  2020-01-01    70\n",
       "3  s1,d2  2020-01-03   100\n",
       "4  s2,d1  2020-01-01    90\n",
       "5  s2,d1  2020-01-02   150\n",
       "6  s2,d2  2020-01-01   210\n",
       "7  s2,d2  2020-01-02   250"
      ]
     },
     "execution_count": 4,
     "metadata": {},
     "output_type": "execute_result"
    }
   ],
   "source": [
    "df=pd.DataFrame({\"id\":[\"s1,d1\",\"s1,d1\",\"s1,d2\",\"s1,d2\",\"s2,d1\",\"s2,d1\",\"s2,d2\",\"s2,d2\"],\"date\":[\"2020-01-01\",\"2020-01-03\",\"2020-01-01\",\"2020-01-03\",\"2020-01-01\",\"2020-01-02\",\"2020-01-01\",\"2020-01-02\"],\"cost\":[30,100,70,100,90,150,210,250]})\n",
    "df"
   ]
  },
  {
   "cell_type": "code",
   "execution_count": 5,
   "id": "b2a6259d",
   "metadata": {},
   "outputs": [
    {
     "data": {
      "text/html": [
       "<div>\n",
       "<style scoped>\n",
       "    .dataframe tbody tr th:only-of-type {\n",
       "        vertical-align: middle;\n",
       "    }\n",
       "\n",
       "    .dataframe tbody tr th {\n",
       "        vertical-align: top;\n",
       "    }\n",
       "\n",
       "    .dataframe thead th {\n",
       "        text-align: right;\n",
       "    }\n",
       "</style>\n",
       "<table border=\"1\" class=\"dataframe\">\n",
       "  <thead>\n",
       "    <tr style=\"text-align: right;\">\n",
       "      <th></th>\n",
       "      <th>id</th>\n",
       "      <th>date</th>\n",
       "      <th>cost</th>\n",
       "    </tr>\n",
       "  </thead>\n",
       "  <tbody>\n",
       "    <tr>\n",
       "      <th>0</th>\n",
       "      <td>s1</td>\n",
       "      <td>2020-01-01</td>\n",
       "      <td>30</td>\n",
       "    </tr>\n",
       "    <tr>\n",
       "      <th>1</th>\n",
       "      <td>s1</td>\n",
       "      <td>2020-01-03</td>\n",
       "      <td>100</td>\n",
       "    </tr>\n",
       "    <tr>\n",
       "      <th>2</th>\n",
       "      <td>s1</td>\n",
       "      <td>2020-01-01</td>\n",
       "      <td>70</td>\n",
       "    </tr>\n",
       "    <tr>\n",
       "      <th>3</th>\n",
       "      <td>s1</td>\n",
       "      <td>2020-01-03</td>\n",
       "      <td>100</td>\n",
       "    </tr>\n",
       "    <tr>\n",
       "      <th>4</th>\n",
       "      <td>s2</td>\n",
       "      <td>2020-01-01</td>\n",
       "      <td>90</td>\n",
       "    </tr>\n",
       "    <tr>\n",
       "      <th>5</th>\n",
       "      <td>s2</td>\n",
       "      <td>2020-01-02</td>\n",
       "      <td>150</td>\n",
       "    </tr>\n",
       "    <tr>\n",
       "      <th>6</th>\n",
       "      <td>s2</td>\n",
       "      <td>2020-01-01</td>\n",
       "      <td>210</td>\n",
       "    </tr>\n",
       "    <tr>\n",
       "      <th>7</th>\n",
       "      <td>s2</td>\n",
       "      <td>2020-01-02</td>\n",
       "      <td>250</td>\n",
       "    </tr>\n",
       "  </tbody>\n",
       "</table>\n",
       "</div>"
      ],
      "text/plain": [
       "   id        date  cost\n",
       "0  s1  2020-01-01    30\n",
       "1  s1  2020-01-03   100\n",
       "2  s1  2020-01-01    70\n",
       "3  s1  2020-01-03   100\n",
       "4  s2  2020-01-01    90\n",
       "5  s2  2020-01-02   150\n",
       "6  s2  2020-01-01   210\n",
       "7  s2  2020-01-02   250"
      ]
     },
     "execution_count": 5,
     "metadata": {},
     "output_type": "execute_result"
    }
   ],
   "source": [
    "# Keep only the first string of id column\n",
    "df['id']=df['id'].apply(lambda x: x.split(\",\"))\n",
    "df['id']=df['id'].apply(lambda x: x[0])\n",
    "df"
   ]
  },
  {
   "cell_type": "code",
   "execution_count": 6,
   "id": "e0c8630b",
   "metadata": {},
   "outputs": [
    {
     "name": "stdout",
     "output_type": "stream",
     "text": [
      "   id        date  sum\n",
      "0  s1  2020-01-01  100\n",
      "1  s1  2020-01-03  200\n",
      "2  s2  2020-01-01  300\n",
      "3  s2  2020-01-02  400\n"
     ]
    }
   ],
   "source": [
    "# find sum for each id for each date\n",
    "df2=df.groupby(['id','date'])['cost'].sum().reset_index(name = 'sum')\n",
    "print(df2)"
   ]
  },
  {
   "cell_type": "code",
   "execution_count": 7,
   "id": "a63b751d",
   "metadata": {},
   "outputs": [
    {
     "name": "stdout",
     "output_type": "stream",
     "text": [
      "   id        date  sum\n",
      "0  s1  2020-01-01  100\n",
      "1  s1  2020-01-02    0\n",
      "2  s1  2020-01-03  200\n",
      "3  s2  2020-01-01  300\n",
      "4  s2  2020-01-02  400\n",
      "5  s2  2020-01-03    0\n"
     ]
    }
   ],
   "source": [
    "# for each id all available dates should be shown\n",
    "df3=df2.pivot_table(\"sum\", \"date\", \"id\", fill_value=0).unstack().reset_index(name='sum')\n",
    "print(df3)"
   ]
  },
  {
   "cell_type": "code",
   "execution_count": 8,
   "id": "cd50cc68",
   "metadata": {},
   "outputs": [
    {
     "name": "stdout",
     "output_type": "stream",
     "text": [
      "   id                                  date            sum\n",
      "0  s1  [2020-01-01, 2020-01-02, 2020-01-03]  [100, 0, 200]\n",
      "1  s2  [2020-01-01, 2020-01-02, 2020-01-03]  [300, 400, 0]\n"
     ]
    }
   ],
   "source": [
    "# convert dates as well as sum for each date into list form\n",
    "df4=df3.groupby('id').agg(list).reset_index()\n",
    "print(df4)"
   ]
  }
 ],
 "metadata": {
  "kernelspec": {
   "display_name": "Python 3 (ipykernel)",
   "language": "python",
   "name": "python3"
  },
  "language_info": {
   "codemirror_mode": {
    "name": "ipython",
    "version": 3
   },
   "file_extension": ".py",
   "mimetype": "text/x-python",
   "name": "python",
   "nbconvert_exporter": "python",
   "pygments_lexer": "ipython3",
   "version": "3.9.7"
  }
 },
 "nbformat": 4,
 "nbformat_minor": 5
}
